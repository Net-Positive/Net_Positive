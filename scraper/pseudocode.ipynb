{
 "cells": [
  {
   "cell_type": "code",
   "execution_count": null,
   "metadata": {},
   "outputs": [],
   "source": [
    "#create a table for the 2 basketball Bundesliga\n",
    "#we need: season,  rank, teamname, games played, wins , losses, points, pts + , pts -, point difference.(columns)\n",
    "#list[]\n",
    "#rows = teams \n",
    "#rank 1-n dynamic, function depending on points and , direct comparison(punktegleichheit)and point difference\n",
    "# unique teamnames\n",
    "# games played: for loop , everytime a result happens the games played increases by 1. count + 1\n",
    "# wins : count for loop , if teams score higher then opponent score\n",
    "#losses: same else statement\n",
    "# pts +:adding one scores for loop\n",
    "#pts - : adding opponent scores for loop\n",
    "# difference:  for loop (pts + - pts-)\n"
   ]
  },
  {
   "cell_type": "code",
   "execution_count": null,
   "metadata": {},
   "outputs": [],
   "source": [
    "#advanced pseúdocode\n",
    "# we have code for each individual table in a dataframe, we have to write a function to add a new df to the existing one\n",
    "# example: dataframe from gameday 1 + df gameday 2 = standing after gameday 2\n",
    "#function who does this step for every game in every season \n",
    "#creating a function for df1\n",
    "#creating a function who adds df2 to df1\n",
    "# put this in a dynamic for loop\n",
    "#for tabelle in mathcday:\n",
    " #   tabelle = pd.DataFrame(df1(matchday-1) + df2(matchday))\n",
    " # if i = 2 add to start dataframe\n",
    " # else add df(i) + df(i-1)"
   ]
  }
 ],
 "metadata": {
  "language_info": {
   "name": "python"
  },
  "orig_nbformat": 4
 },
 "nbformat": 4,
 "nbformat_minor": 2
}
