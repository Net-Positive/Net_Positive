{
 "cells": [
  {
   "cell_type": "markdown",
   "metadata": {},
   "source": []
  },
  {
   "cell_type": "code",
   "execution_count": 3,
   "metadata": {},
   "outputs": [],
   "source": [
    "import pandas as pd\n",
    "#import numpy as np\n",
    "import psycopg2 # needed to get database exception errors when uploading dataframe\n",
    "import requests # package for getting data from the web\n",
    "from sql_functions import get_engine\n",
    "from sql_functions import upload_to_database\n",
    "\n",
    "%store -r boxscores"
   ]
  },
  {
   "cell_type": "code",
   "execution_count": 3,
   "metadata": {},
   "outputs": [],
   "source": [
    "table_name = \"boxscores\"\n",
    "engine = get_engine()\n",
    "schema = \"public\"\n"
   ]
  },
  {
   "cell_type": "code",
   "execution_count": 3,
   "metadata": {},
   "outputs": [
    {
     "name": "stdout",
     "output_type": "stream",
     "text": [
      "The boxscores table was imported successfully.\n"
     ]
    }
   ],
   "source": [
    "# Write records stored in a dataframe to SQL database\n",
    "if engine!=None:\n",
    "    try:\n",
    "        boxscores.to_sql(name=table_name, # Name of SQL table\n",
    "                        con=engine, # Engine or connection\n",
    "                        if_exists='replace', # Drop the table before inserting new values \n",
    "                        schema=schema, # Use schmea that was defined earlier\n",
    "                        index=False, # Write DataFrame index as a column\n",
    "                        chunksize=5000, # Specify the number of rows in each batch to be written at a time\n",
    "                        method='multi') # Pass multiple values in a single INSERT clause\n",
    "        print(f\"The {table_name} table was imported successfully.\")\n",
    "    # Error handling\n",
    "    except (Exception, psycopg2.DatabaseError) as error:\n",
    "        print(error)\n",
    "        engine = None"
   ]
  },
  {
   "cell_type": "code",
   "execution_count": 4,
   "metadata": {},
   "outputs": [],
   "source": [
    "%store -r matchdays"
   ]
  },
  {
   "cell_type": "code",
   "execution_count": 4,
   "metadata": {},
   "outputs": [
    {
     "name": "stdout",
     "output_type": "stream",
     "text": [
      "name 'matchdays' is not defined\n"
     ]
    }
   ],
   "source": [
    "if engine!=None:\n",
    "    try:\n",
    "        matchdays.to_sql(name=\"matchdays\", # Name of SQL table\n",
    "                        con=engine, # Engine or connection\n",
    "                        if_exists='replace', # Drop the table before inserting new values \n",
    "                        schema=schema, # Use schmea that was defined earlier\n",
    "                        index=False, # Write DataFrame index as a column\n",
    "                        chunksize=5000, # Specify the number of rows in each batch to be written at a time\n",
    "                        method='multi') # Pass multiple values in a single INSERT clause\n",
    "        print(f\"The matchdays table was imported successfully.\")\n",
    "    # Error handling\n",
    "    except (Exception, psycopg2.DatabaseError) as error:\n",
    "        print(error)\n",
    "        engine = None"
   ]
  },
  {
   "cell_type": "markdown",
   "metadata": {},
   "source": [
    "# Rosters"
   ]
  },
  {
   "cell_type": "code",
   "execution_count": 6,
   "metadata": {},
   "outputs": [
    {
     "name": "stdout",
     "output_type": "stream",
     "text": [
      "import ok\n",
      "The rosters table was imported successfully.\n"
     ]
    }
   ],
   "source": [
    "%store -r rosters \n",
    "\n",
    "print(\"import ok\")\n",
    "table_name = \"rosters\"\n",
    "engine = get_engine()\n",
    "schema = \"public\"\n",
    "\n",
    "upload_to_database(rosters, table_name, schema, engine)"
   ]
  },
  {
   "cell_type": "code",
   "execution_count": 2,
   "metadata": {},
   "outputs": [
    {
     "name": "stdout",
     "output_type": "stream",
     "text": [
      "import ok\n",
      "The boxscore_feature table was imported successfully.\n"
     ]
    }
   ],
   "source": [
    "%store -r boxscore_feature\n",
    "\n",
    "print(\"import ok\")\n",
    "table_name = \"boxscore_feature\"\n",
    "engine = get_engine()\n",
    "schema = \"public\"\n",
    "\n",
    "upload_to_database(boxscore_feature, table_name, schema, engine)"
   ]
  },
  {
   "cell_type": "code",
   "execution_count": 1,
   "metadata": {},
   "outputs": [
    {
     "data": {
      "text/html": [
       "<div>\n",
       "<style scoped>\n",
       "    .dataframe tbody tr th:only-of-type {\n",
       "        vertical-align: middle;\n",
       "    }\n",
       "\n",
       "    .dataframe tbody tr th {\n",
       "        vertical-align: top;\n",
       "    }\n",
       "\n",
       "    .dataframe thead th {\n",
       "        text-align: right;\n",
       "    }\n",
       "</style>\n",
       "<table border=\"1\" class=\"dataframe\">\n",
       "  <thead>\n",
       "    <tr style=\"text-align: right;\">\n",
       "      <th></th>\n",
       "      <th>matchId</th>\n",
       "      <th>team</th>\n",
       "      <th>number</th>\n",
       "      <th>name</th>\n",
       "      <th>sec</th>\n",
       "      <th>2P_P</th>\n",
       "      <th>2P_A</th>\n",
       "      <th>2P_R</th>\n",
       "      <th>3P_P</th>\n",
       "      <th>3P_A</th>\n",
       "      <th>...</th>\n",
       "      <th>position</th>\n",
       "      <th>Points_score</th>\n",
       "      <th>Assist_score</th>\n",
       "      <th>EFG_score</th>\n",
       "      <th>TO_score</th>\n",
       "      <th>STBL_score</th>\n",
       "      <th>Reb_score</th>\n",
       "      <th>time_score</th>\n",
       "      <th>NP_Score</th>\n",
       "      <th>NP_%</th>\n",
       "    </tr>\n",
       "  </thead>\n",
       "  <tbody>\n",
       "    <tr>\n",
       "      <th>0</th>\n",
       "      <td>101059</td>\n",
       "      <td>Science City Jena</td>\n",
       "      <td>5.0</td>\n",
       "      <td>Kendall Chones</td>\n",
       "      <td>944</td>\n",
       "      <td>2</td>\n",
       "      <td>3</td>\n",
       "      <td>0.67</td>\n",
       "      <td>0</td>\n",
       "      <td>0</td>\n",
       "      <td>...</td>\n",
       "      <td>C</td>\n",
       "      <td>0.173913</td>\n",
       "      <td>0.0</td>\n",
       "      <td>0.373321</td>\n",
       "      <td>0.750000</td>\n",
       "      <td>0.5</td>\n",
       "      <td>0.214286</td>\n",
       "      <td>0.393333</td>\n",
       "      <td>6.258293</td>\n",
       "      <td>15.199833</td>\n",
       "    </tr>\n",
       "    <tr>\n",
       "      <th>1</th>\n",
       "      <td>101059</td>\n",
       "      <td>Science City Jena</td>\n",
       "      <td>7.0</td>\n",
       "      <td>Ermen Reyes-Napoles</td>\n",
       "      <td>1486</td>\n",
       "      <td>2</td>\n",
       "      <td>4</td>\n",
       "      <td>0.50</td>\n",
       "      <td>1</td>\n",
       "      <td>1</td>\n",
       "      <td>...</td>\n",
       "      <td>PG</td>\n",
       "      <td>0.346154</td>\n",
       "      <td>0.1</td>\n",
       "      <td>0.525785</td>\n",
       "      <td>0.857143</td>\n",
       "      <td>1.0</td>\n",
       "      <td>0.500000</td>\n",
       "      <td>0.619167</td>\n",
       "      <td>14.199786</td>\n",
       "      <td>34.487739</td>\n",
       "    </tr>\n",
       "    <tr>\n",
       "      <th>2</th>\n",
       "      <td>101059</td>\n",
       "      <td>Science City Jena</td>\n",
       "      <td>8.0</td>\n",
       "      <td>Lukas Wank</td>\n",
       "      <td>0</td>\n",
       "      <td>0</td>\n",
       "      <td>0</td>\n",
       "      <td>0.00</td>\n",
       "      <td>0</td>\n",
       "      <td>0</td>\n",
       "      <td>...</td>\n",
       "      <td>PG</td>\n",
       "      <td>0.000000</td>\n",
       "      <td>0.0</td>\n",
       "      <td>0.000000</td>\n",
       "      <td>0.000000</td>\n",
       "      <td>0.0</td>\n",
       "      <td>0.000000</td>\n",
       "      <td>0.000000</td>\n",
       "      <td>0.000000</td>\n",
       "      <td>0.000000</td>\n",
       "    </tr>\n",
       "    <tr>\n",
       "      <th>3</th>\n",
       "      <td>101059</td>\n",
       "      <td>Science City Jena</td>\n",
       "      <td>9.0</td>\n",
       "      <td>Lars Wendt</td>\n",
       "      <td>1491</td>\n",
       "      <td>2</td>\n",
       "      <td>2</td>\n",
       "      <td>1.00</td>\n",
       "      <td>0</td>\n",
       "      <td>2</td>\n",
       "      <td>...</td>\n",
       "      <td>PG</td>\n",
       "      <td>0.153846</td>\n",
       "      <td>0.1</td>\n",
       "      <td>0.377593</td>\n",
       "      <td>0.428571</td>\n",
       "      <td>0.0</td>\n",
       "      <td>0.125000</td>\n",
       "      <td>0.621250</td>\n",
       "      <td>7.712560</td>\n",
       "      <td>18.731886</td>\n",
       "    </tr>\n",
       "    <tr>\n",
       "      <th>4</th>\n",
       "      <td>101059</td>\n",
       "      <td>Science City Jena</td>\n",
       "      <td>10.0</td>\n",
       "      <td>Sascha Leutloff</td>\n",
       "      <td>665</td>\n",
       "      <td>1</td>\n",
       "      <td>3</td>\n",
       "      <td>0.33</td>\n",
       "      <td>0</td>\n",
       "      <td>0</td>\n",
       "      <td>...</td>\n",
       "      <td>SF</td>\n",
       "      <td>0.166667</td>\n",
       "      <td>0.0</td>\n",
       "      <td>0.270769</td>\n",
       "      <td>0.500000</td>\n",
       "      <td>0.5</td>\n",
       "      <td>0.375000</td>\n",
       "      <td>0.277083</td>\n",
       "      <td>3.638932</td>\n",
       "      <td>8.838059</td>\n",
       "    </tr>\n",
       "  </tbody>\n",
       "</table>\n",
       "<p>5 rows × 36 columns</p>\n",
       "</div>"
      ],
      "text/plain": [
       "   matchId               team  number                 name   sec  2P_P  2P_A  \\\n",
       "0   101059  Science City Jena     5.0       Kendall Chones   944     2     3   \n",
       "1   101059  Science City Jena     7.0  Ermen Reyes-Napoles  1486     2     4   \n",
       "2   101059  Science City Jena     8.0           Lukas Wank     0     0     0   \n",
       "3   101059  Science City Jena     9.0           Lars Wendt  1491     2     2   \n",
       "4   101059  Science City Jena    10.0      Sascha Leutloff   665     1     3   \n",
       "\n",
       "   2P_R  3P_P  3P_A  ...  position  Points_score  Assist_score  EFG_score  \\\n",
       "0  0.67     0     0  ...         C      0.173913           0.0   0.373321   \n",
       "1  0.50     1     1  ...        PG      0.346154           0.1   0.525785   \n",
       "2  0.00     0     0  ...        PG      0.000000           0.0   0.000000   \n",
       "3  1.00     0     2  ...        PG      0.153846           0.1   0.377593   \n",
       "4  0.33     0     0  ...        SF      0.166667           0.0   0.270769   \n",
       "\n",
       "   TO_score  STBL_score  Reb_score  time_score   NP_Score       NP_%  \n",
       "0  0.750000         0.5   0.214286    0.393333   6.258293  15.199833  \n",
       "1  0.857143         1.0   0.500000    0.619167  14.199786  34.487739  \n",
       "2  0.000000         0.0   0.000000    0.000000   0.000000   0.000000  \n",
       "3  0.428571         0.0   0.125000    0.621250   7.712560  18.731886  \n",
       "4  0.500000         0.5   0.375000    0.277083   3.638932   8.838059  \n",
       "\n",
       "[5 rows x 36 columns]"
      ]
     },
     "execution_count": 1,
     "metadata": {},
     "output_type": "execute_result"
    }
   ],
   "source": [
    "%store -r boxscore_NP_Score\n",
    "\n",
    "boxscore_NP_Score.head()"
   ]
  },
  {
   "cell_type": "code",
   "execution_count": 4,
   "metadata": {},
   "outputs": [
    {
     "name": "stdout",
     "output_type": "stream",
     "text": [
      "The boxscore_NP_Score table was imported successfully.\n"
     ]
    }
   ],
   "source": [
    "table_name = \"boxscore_NP_Score\"\n",
    "engine = get_engine()\n",
    "schema = \"public\"\n",
    "\n",
    "upload_to_database(boxscore_NP_Score, table_name, schema, engine)"
   ]
  }
 ],
 "metadata": {
  "kernelspec": {
   "display_name": "Python 3.9.12 ('nf_sql')",
   "language": "python",
   "name": "python3"
  },
  "language_info": {
   "codemirror_mode": {
    "name": "ipython",
    "version": 3
   },
   "file_extension": ".py",
   "mimetype": "text/x-python",
   "name": "python",
   "nbconvert_exporter": "python",
   "pygments_lexer": "ipython3",
   "version": "3.9.12"
  },
  "orig_nbformat": 4,
  "vscode": {
   "interpreter": {
    "hash": "a81d278bed5b5b59425dcb5a82ce505657686243c184b4a6b67e69d01c4d432e"
   }
  }
 },
 "nbformat": 4,
 "nbformat_minor": 2
}
