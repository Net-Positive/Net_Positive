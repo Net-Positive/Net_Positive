{
 "cells": [
  {
   "cell_type": "code",
   "execution_count": null,
   "metadata": {},
   "outputs": [],
   "source": [
    "#create a table for the 2 basketball Bundesliga\n",
    "#we need: season,  rank, teamname, games played, wins , losses, points, pts + , pts -, point difference.(columns)\n",
    "#list[]\n",
    "#rows = teams \n",
    "#rank 1-n dynamic, function depending on points and , direct comparison(punktegleichheit)and point difference\n",
    "# unique teamnames\n",
    "# games played: for loop , everytime a result happens the games played increases by 1. count + 1\n",
    "# wins : count for loop , if teams score higher then opponent score\n",
    "#losses: same else statement\n",
    "# pts +:adding one scores for loop\n",
    "#pts - : adding opponent scores for loop\n",
    "# difference:  for loop (pts + - pts-)\n"
   ]
  }
 ],
 "metadata": {
  "language_info": {
   "name": "python"
  },
  "orig_nbformat": 4
 },
 "nbformat": 4,
 "nbformat_minor": 2
}
