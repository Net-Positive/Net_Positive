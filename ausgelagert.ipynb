{
 "cells": [
  {
   "cell_type": "code",
   "execution_count": null,
   "metadata": {},
   "outputs": [],
   "source": [
    "#Rasta_Vechta = [[season], [rank], [games_played], [wins], [losses], [points], [home_pts], [away_pts], [point_difference]]\n",
    "#w, h = 9, 34\n",
    "#Rasta_vechta = [[0 for x in range(w)] for y in range(h)] \n",
    "#Rasta_vechta\n",
    "\n",
    "\n",
    "#Spieltag 1 Rasta\n",
    "#rasta_vechta1 = {'season':'2021/22', 'rank':'1', 'team':'Rasta Vechta', 'games_played':'1', 'wins':'0', 'losses':'1', 'points':'0', 'home_pts':'54', 'away_pts':'68', 'point_difference':'-14'}\n",
    "#rasta_vechta1\n",
    "\n",
    "#Initialising empty lists\n",
    "#season = []\n",
    "#rank = []\n",
    "#team = []\n",
    "#games_played = []\n",
    "#wins = []\n",
    "#losses = []\n",
    "#points = []\n",
    "#home_pts = []\n",
    "#away_pts = []\n",
    "#point_difference = []\n",
    "\n",
    "#df = df.append(rasta_vechta1, ignore_index=True, sort=False)\n",
    "#df\n",
    "\n",
    "#df['teams'] = teams\n",
    "\n",
    "\n",
    "#df['point_difference', ] = 0\n",
    "\n"
   ]
  }
 ],
 "metadata": {
  "language_info": {
   "name": "python"
  },
  "orig_nbformat": 4
 },
 "nbformat": 4,
 "nbformat_minor": 2
}
